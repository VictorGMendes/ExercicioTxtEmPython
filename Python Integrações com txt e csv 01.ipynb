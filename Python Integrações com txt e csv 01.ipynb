{
 "cells": [
  {
   "cell_type": "markdown",
   "metadata": {},
   "source": [
    "### Desafio onde vamos aprender:\n",
    "\n",
    "- Na Hashtag, sempre analisamos o nosso \"Funil de Vendas\". Para isso, rastreamos de onde veio os alunos por meio de um código, do tipo:\n",
    "    - hashtag_site_org -> Pessoas que vieram pelo site da Hashtag\n",
    "    - hashtag_yt_org -> Pessoas que vieram pelo Youtube da Hashtag\n",
    "    - hashtag_ig_org -> Pessoas que vieram pelo Instagram da Hashtag\n",
    "    - hashtag_igfb_org -> Pessoas que vieram pelo Instagram ou Facebook da Hashtag\n",
    "\n",
    "Os códigos diferentes disso, são códigos de anúncio da Hashtag.\n",
    "\n",
    "- Queremos analisar quantos alunos vieram de anúncio e quantos vieram \"orgânico\".\n",
    "- Qual a melhor fonte \"orgânica\" de alunos\n",
    "\n",
    "Obs: orgânico é tudo aquilo que não veio de anúncios.\n",
    "\n",
    "No nosso sistema, conseguimos exportar um txt com as informações dos alunos, conforme o arquivo Alunos.txt<br>\n",
    "(Os dados foram gerados aleatoriamente para simular uma situação real, já que não podemos fornecer os dados reais dos alunos por questões de segurança)\n",
    "\n",
    "- No final, para treinar, vamos escrever todas essas respostas em um novo arquivo txt"
   ]
  },
  {
   "cell_type": "code",
   "execution_count": 32,
   "metadata": {
    "scrolled": false
   },
   "outputs": [
    {
     "name": "stdout",
     "output_type": "stream",
     "text": [
      "226 alunos vieram \"organicos\"\n",
      "274 alunos vieram por anúncios\n",
      "116 alunos vieram do youtube\n",
      "37 alunos vieram do instagram ou facebook\n",
      "73 alunos vieram do site\n"
     ]
    }
   ],
   "source": [
    "#criar contadores\n",
    "site = 0\n",
    "youtube = 0\n",
    "instagramFacebook = 0\n",
    "anuncio = 0\n",
    "\n",
    "\n",
    "with open('Alunos.txt', 'r') as arquivo:\n",
    "    textoArquivo = arquivo.readlines()\n",
    "    del textoArquivo[:4]\n",
    "    \n",
    "    for linha in textoArquivo:\n",
    "        pessoa, origem = linha.split(',')\n",
    "        if '_org' in origem:\n",
    "            if 'hashtag_site_org' in origem:\n",
    "                site += 1\n",
    "            elif 'hashtag_yt_org' in origem:\n",
    "                youtube += 1\n",
    "            elif 'hashtag_ig_org' or 'hashtag_igfb_org 'in origem:\n",
    "                instagramFacebook += 1\n",
    "\n",
    "        else: anuncio += 1\n",
    "            \n",
    "organio = site + youtube + instagramFacebook\n",
    "\n",
    "print(f'{organio} alunos vieram \"organicos\"')\n",
    "print(f'{anuncio} alunos vieram por anúncios')\n",
    "print(f'{youtube} alunos vieram do youtube')\n",
    "print(f'{instagramFacebook} alunos vieram do instagram ou facebook')\n",
    "print(f'{site} alunos vieram do site')\n",
    "\n",
    "#criando novo txt\n",
    "with open('Indicadores.txt', 'w') as indicadores:\n",
    "    indicadores.write(f'{organio} alunos vieram \"organicos\"\\n{anuncio} alunos vieram por anúncios \\n{youtube} alunos vieram do youtube \\n{instagramFacebook} alunos vieram do instagram ou facebook \\n{site} alunos vieram do site')\n",
    "    "
   ]
  }
 ],
 "metadata": {
  "kernelspec": {
   "display_name": "Python 3 (ipykernel)",
   "language": "python",
   "name": "python3"
  },
  "language_info": {
   "codemirror_mode": {
    "name": "ipython",
    "version": 3
   },
   "file_extension": ".py",
   "mimetype": "text/x-python",
   "name": "python",
   "nbconvert_exporter": "python",
   "pygments_lexer": "ipython3",
   "version": "3.9.7"
  }
 },
 "nbformat": 4,
 "nbformat_minor": 4
}
